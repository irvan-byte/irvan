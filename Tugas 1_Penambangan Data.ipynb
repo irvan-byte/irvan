{
 "cells": [
  {
   "cell_type": "code",
   "execution_count": 2,
   "metadata": {},
   "outputs": [
    {
     "data": {
      "text/html": [
       "<style  type=\"text/css\" >\n",
       "</style><table id=\"T_a37d4d70_cff8_11e9_b18e_1cb72c3b3cde\" ><thead>    <tr>        <th class=\"col_heading level0 col0\" >stats</th>        <th class=\"col_heading level0 col1\" >umur</th>        <th class=\"col_heading level0 col2\" >tinggi badan</th>        <th class=\"col_heading level0 col3\" >berat badan</th>        <th class=\"col_heading level0 col4\" >ukuran sepatu</th>    </tr></thead><tbody>\n",
       "                <tr>\n",
       "                                <td id=\"T_a37d4d70_cff8_11e9_b18e_1cb72c3b3cderow0_col0\" class=\"data row0 col0\" >Min</td>\n",
       "                        <td id=\"T_a37d4d70_cff8_11e9_b18e_1cb72c3b3cderow0_col1\" class=\"data row0 col1\" >17</td>\n",
       "                        <td id=\"T_a37d4d70_cff8_11e9_b18e_1cb72c3b3cderow0_col2\" class=\"data row0 col2\" >160</td>\n",
       "                        <td id=\"T_a37d4d70_cff8_11e9_b18e_1cb72c3b3cderow0_col3\" class=\"data row0 col3\" >40</td>\n",
       "                        <td id=\"T_a37d4d70_cff8_11e9_b18e_1cb72c3b3cderow0_col4\" class=\"data row0 col4\" >35</td>\n",
       "            </tr>\n",
       "            <tr>\n",
       "                                <td id=\"T_a37d4d70_cff8_11e9_b18e_1cb72c3b3cderow1_col0\" class=\"data row1 col0\" >Max</td>\n",
       "                        <td id=\"T_a37d4d70_cff8_11e9_b18e_1cb72c3b3cderow1_col1\" class=\"data row1 col1\" >19</td>\n",
       "                        <td id=\"T_a37d4d70_cff8_11e9_b18e_1cb72c3b3cderow1_col2\" class=\"data row1 col2\" >180</td>\n",
       "                        <td id=\"T_a37d4d70_cff8_11e9_b18e_1cb72c3b3cderow1_col3\" class=\"data row1 col3\" >80</td>\n",
       "                        <td id=\"T_a37d4d70_cff8_11e9_b18e_1cb72c3b3cderow1_col4\" class=\"data row1 col4\" >45</td>\n",
       "            </tr>\n",
       "            <tr>\n",
       "                                <td id=\"T_a37d4d70_cff8_11e9_b18e_1cb72c3b3cderow2_col0\" class=\"data row2 col0\" >Mean</td>\n",
       "                        <td id=\"T_a37d4d70_cff8_11e9_b18e_1cb72c3b3cderow2_col1\" class=\"data row2 col1\" >18.0101</td>\n",
       "                        <td id=\"T_a37d4d70_cff8_11e9_b18e_1cb72c3b3cderow2_col2\" class=\"data row2 col2\" >169.94</td>\n",
       "                        <td id=\"T_a37d4d70_cff8_11e9_b18e_1cb72c3b3cderow2_col3\" class=\"data row2 col3\" >59.3058</td>\n",
       "                        <td id=\"T_a37d4d70_cff8_11e9_b18e_1cb72c3b3cderow2_col4\" class=\"data row2 col4\" >40.2173</td>\n",
       "            </tr>\n",
       "            <tr>\n",
       "                                <td id=\"T_a37d4d70_cff8_11e9_b18e_1cb72c3b3cderow3_col0\" class=\"data row3 col0\" >Standard Deviasi</td>\n",
       "                        <td id=\"T_a37d4d70_cff8_11e9_b18e_1cb72c3b3cderow3_col1\" class=\"data row3 col1\" >0.8</td>\n",
       "                        <td id=\"T_a37d4d70_cff8_11e9_b18e_1cb72c3b3cderow3_col2\" class=\"data row3 col2\" >6</td>\n",
       "                        <td id=\"T_a37d4d70_cff8_11e9_b18e_1cb72c3b3cderow3_col3\" class=\"data row3 col3\" >11.83</td>\n",
       "                        <td id=\"T_a37d4d70_cff8_11e9_b18e_1cb72c3b3cderow3_col4\" class=\"data row3 col4\" >3.13</td>\n",
       "            </tr>\n",
       "            <tr>\n",
       "                                <td id=\"T_a37d4d70_cff8_11e9_b18e_1cb72c3b3cderow4_col0\" class=\"data row4 col0\" >Variasi</td>\n",
       "                        <td id=\"T_a37d4d70_cff8_11e9_b18e_1cb72c3b3cderow4_col1\" class=\"data row4 col1\" >0.65</td>\n",
       "                        <td id=\"T_a37d4d70_cff8_11e9_b18e_1cb72c3b3cderow4_col2\" class=\"data row4 col2\" >35.97</td>\n",
       "                        <td id=\"T_a37d4d70_cff8_11e9_b18e_1cb72c3b3cderow4_col3\" class=\"data row4 col3\" >140.05</td>\n",
       "                        <td id=\"T_a37d4d70_cff8_11e9_b18e_1cb72c3b3cderow4_col4\" class=\"data row4 col4\" >9.79</td>\n",
       "            </tr>\n",
       "            <tr>\n",
       "                                <td id=\"T_a37d4d70_cff8_11e9_b18e_1cb72c3b3cderow5_col0\" class=\"data row5 col0\" >Skewnes</td>\n",
       "                        <td id=\"T_a37d4d70_cff8_11e9_b18e_1cb72c3b3cderow5_col1\" class=\"data row5 col1\" >-0.02</td>\n",
       "                        <td id=\"T_a37d4d70_cff8_11e9_b18e_1cb72c3b3cderow5_col2\" class=\"data row5 col2\" >-0.03</td>\n",
       "                        <td id=\"T_a37d4d70_cff8_11e9_b18e_1cb72c3b3cderow5_col3\" class=\"data row5 col3\" >0.08</td>\n",
       "                        <td id=\"T_a37d4d70_cff8_11e9_b18e_1cb72c3b3cderow5_col4\" class=\"data row5 col4\" >-0.1</td>\n",
       "            </tr>\n",
       "            <tr>\n",
       "                                <td id=\"T_a37d4d70_cff8_11e9_b18e_1cb72c3b3cderow6_col0\" class=\"data row6 col0\" >Quantile 1</td>\n",
       "                        <td id=\"T_a37d4d70_cff8_11e9_b18e_1cb72c3b3cderow6_col1\" class=\"data row6 col1\" >17</td>\n",
       "                        <td id=\"T_a37d4d70_cff8_11e9_b18e_1cb72c3b3cderow6_col2\" class=\"data row6 col2\" >165</td>\n",
       "                        <td id=\"T_a37d4d70_cff8_11e9_b18e_1cb72c3b3cderow6_col3\" class=\"data row6 col3\" >49</td>\n",
       "                        <td id=\"T_a37d4d70_cff8_11e9_b18e_1cb72c3b3cderow6_col4\" class=\"data row6 col4\" >38</td>\n",
       "            </tr>\n",
       "            <tr>\n",
       "                                <td id=\"T_a37d4d70_cff8_11e9_b18e_1cb72c3b3cderow7_col0\" class=\"data row7 col0\" >Quantile 2</td>\n",
       "                        <td id=\"T_a37d4d70_cff8_11e9_b18e_1cb72c3b3cderow7_col1\" class=\"data row7 col1\" >18</td>\n",
       "                        <td id=\"T_a37d4d70_cff8_11e9_b18e_1cb72c3b3cderow7_col2\" class=\"data row7 col2\" >170</td>\n",
       "                        <td id=\"T_a37d4d70_cff8_11e9_b18e_1cb72c3b3cderow7_col3\" class=\"data row7 col3\" >58</td>\n",
       "                        <td id=\"T_a37d4d70_cff8_11e9_b18e_1cb72c3b3cderow7_col4\" class=\"data row7 col4\" >40</td>\n",
       "            </tr>\n",
       "            <tr>\n",
       "                                <td id=\"T_a37d4d70_cff8_11e9_b18e_1cb72c3b3cderow8_col0\" class=\"data row8 col0\" >Quantile 3</td>\n",
       "                        <td id=\"T_a37d4d70_cff8_11e9_b18e_1cb72c3b3cderow8_col1\" class=\"data row8 col1\" >19</td>\n",
       "                        <td id=\"T_a37d4d70_cff8_11e9_b18e_1cb72c3b3cderow8_col2\" class=\"data row8 col2\" >175</td>\n",
       "                        <td id=\"T_a37d4d70_cff8_11e9_b18e_1cb72c3b3cderow8_col3\" class=\"data row8 col3\" >70</td>\n",
       "                        <td id=\"T_a37d4d70_cff8_11e9_b18e_1cb72c3b3cderow8_col4\" class=\"data row8 col4\" >43</td>\n",
       "            </tr>\n",
       "            <tr>\n",
       "                                <td id=\"T_a37d4d70_cff8_11e9_b18e_1cb72c3b3cderow9_col0\" class=\"data row9 col0\" >Median</td>\n",
       "                        <td id=\"T_a37d4d70_cff8_11e9_b18e_1cb72c3b3cderow9_col1\" class=\"data row9 col1\" >18</td>\n",
       "                        <td id=\"T_a37d4d70_cff8_11e9_b18e_1cb72c3b3cderow9_col2\" class=\"data row9 col2\" >170</td>\n",
       "                        <td id=\"T_a37d4d70_cff8_11e9_b18e_1cb72c3b3cderow9_col3\" class=\"data row9 col3\" >58</td>\n",
       "                        <td id=\"T_a37d4d70_cff8_11e9_b18e_1cb72c3b3cderow9_col4\" class=\"data row9 col4\" >40</td>\n",
       "            </tr>\n",
       "            <tr>\n",
       "                                <td id=\"T_a37d4d70_cff8_11e9_b18e_1cb72c3b3cderow10_col0\" class=\"data row10 col0\" >Modus</td>\n",
       "                        <td id=\"T_a37d4d70_cff8_11e9_b18e_1cb72c3b3cderow10_col1\" class=\"data row10 col1\" >18</td>\n",
       "                        <td id=\"T_a37d4d70_cff8_11e9_b18e_1cb72c3b3cderow10_col2\" class=\"data row10 col2\" >171</td>\n",
       "                        <td id=\"T_a37d4d70_cff8_11e9_b18e_1cb72c3b3cderow10_col3\" class=\"data row10 col3\" >75</td>\n",
       "                        <td id=\"T_a37d4d70_cff8_11e9_b18e_1cb72c3b3cderow10_col4\" class=\"data row10 col4\" >42</td>\n",
       "            </tr>\n",
       "    </tbody></table>"
      ],
      "text/plain": [
       "<pandas.io.formats.style.Styler at 0x2b54221be80>"
      ]
     },
     "execution_count": 2,
     "metadata": {},
     "output_type": "execute_result"
    }
   ],
   "source": [
    "import pandas as pd\n",
    "from scipy import stats\n",
    "df = pd.read_csv('daftar.csv',sep=';')\n",
    "data = {\"stats\": ['Min','Max','Mean','Standard Deviasi','Variasi','Skewnes','Quantile 1','Quantile 2',\n",
    "                  'Quantile 3','Median','Modus']}\n",
    "for i in df.columns:\n",
    "    data[i] = [df[i].min(), df[i].max(), df[i].mean(), round(df[i].std(),2), round(df[i].var(),2),\n",
    "               round(df[i].skew(),2), df[i].quantile(0.25),df[i].quantile(0.5),df[i].quantile(0.75), \n",
    "               df[i].median(), stats.mode(df[i]).mode[0]]\n",
    "tes = pd.DataFrame(data)\n",
    "tes.style.hide_index()"
   ]
  },
  {
   "cell_type": "code",
   "execution_count": null,
   "metadata": {},
   "outputs": [],
   "source": []
  },
  {
   "cell_type": "code",
   "execution_count": null,
   "metadata": {},
   "outputs": [],
   "source": []
  }
 ],
 "metadata": {
  "kernelspec": {
   "display_name": "Python 3",
   "language": "python",
   "name": "python3"
  },
  "language_info": {
   "codemirror_mode": {
    "name": "ipython",
    "version": 3
   },
   "file_extension": ".py",
   "mimetype": "text/x-python",
   "name": "python",
   "nbconvert_exporter": "python",
   "pygments_lexer": "ipython3",
   "version": "3.7.3"
  }
 },
 "nbformat": 4,
 "nbformat_minor": 2
}
